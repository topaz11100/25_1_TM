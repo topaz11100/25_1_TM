{
 "cells": [
  {
   "cell_type": "code",
   "execution_count": 33,
   "metadata": {},
   "outputs": [],
   "source": [
    "import requests\n",
    "import pandas as pd\n",
    "\n",
    "#설정상수\n",
    "OC = 'topaz11100'\n",
    "TYPE = 'JSON'\n",
    "\n",
    "#본문조회상수\n",
    "TEXT_URL = 'http://www.law.go.kr/DRF/lawService.do?target=prec'\n",
    "TEXT_PARAM = {\n",
    "    'OC': OC,\n",
    "    'ID': '241881',\n",
    "    'type': TYPE\n",
    "}\n",
    "TEXT_KEY = ['판시사항', '참조판례', '사건종류명', '판결요지', '참조조문', '선고일자', '법원명', '사건명', '판례내용', '사건번호', '사건종류코드', '판례정보일련번호', '선고', '판결유형', '법원종류코드']\n",
    "\n",
    "#목록조회상수\n",
    "LIST_URL = 'http://www.law.go.kr/DRF/lawSearch.do?target=prec'\n",
    "LIST_PARAM = {\n",
    "    'OC': OC,\n",
    "    'type': TYPE,\n",
    "    'display': 100\n",
    "}\n",
    "LIST_KEY = ['키워드', 'page', 'target', 'prec', 'totalCnt', 'section']\n",
    "LIST_PREC_KEY = ['id', '사건번호', '데이터출처명', '사건종류코드', '사건종류명', '선고', '선고일자', '판례일련번호', '판결유형', '법원종류코드', '법원명', '판례상세링크', '사건명']\n",
    "\n",
    "#요청, 응답을 딕셔너리로 반환함\n",
    "def api_to_dict(url, param):\n",
    "    response = requests.get(url, params=param)\n",
    "    response.raise_for_status()\n",
    "    dict_data = next(iter(response.json().values()))\n",
    "    if type(dict_data) is not dict:\n",
    "        raise TypeError(f\"딕셔너리가 아님 어쩌면 판례없음\")\n",
    "    return dict_data\n",
    "\n",
    "text_data, text_row = pd.DataFrame(columns=TEXT_KEY), []\n",
    "list_data, list_row = pd.DataFrame(columns=LIST_PREC_KEY), []\n",
    "\n",
    "def merge_text_row_data(text_data, text_row):\n",
    "    return pd.concat([text_data, pd.DataFrame(text_row)], ignore_index=True)\n",
    "def merge_list_row_data(list_data, list_row):\n",
    "    return pd.concat([list_data, pd.DataFrame(list_row)], ignore_index=True)"
   ]
  },
  {
   "cell_type": "code",
   "execution_count": 34,
   "metadata": {},
   "outputs": [],
   "source": [
    "#id를 넣은 파라미터 생성\n",
    "def make_id_param(id):\n",
    "    result = TEXT_PARAM.copy()\n",
    "    result.update({'ID' : id})\n",
    "    return result\n",
    "\n",
    "#판례번호에 맞는 판례가 있으면 딕셔너리, 없으면 스트링\n",
    "text_row.append(api_to_dict(TEXT_URL, make_id_param('179471')))\n",
    "text_data = merge_text_row_data(text_data, text_row)"
   ]
  },
  {
   "cell_type": "code",
   "execution_count": 35,
   "metadata": {},
   "outputs": [],
   "source": [
    "#검색설정\n",
    "def make_query_param(query, curt=''):\n",
    "    result = LIST_PARAM.copy()\n",
    "    result.update({'query' : query})\n",
    "    if curt:\n",
    "        result.update({'curt' : curt})\n",
    "    return result\n",
    "\n",
    "list_row.append(api_to_dict(LIST_URL, make_query_param('이혼', '서울가정법원'))['prec'][1])\n",
    "list_data = merge_list_row_data(list_data, list_row)"
   ]
  },
  {
   "cell_type": "code",
   "execution_count": 36,
   "metadata": {},
   "outputs": [],
   "source": [
    "text_data.to_csv(\"본문테스트.csv\", encoding='cp949')"
   ]
  },
  {
   "cell_type": "code",
   "execution_count": 37,
   "metadata": {},
   "outputs": [],
   "source": [
    "list_data.to_csv(\"목록테스트.csv\", encoding='cp949')"
   ]
  },
  {
   "cell_type": "code",
   "execution_count": null,
   "metadata": {},
   "outputs": [],
   "source": []
  },
  {
   "cell_type": "code",
   "execution_count": null,
   "metadata": {},
   "outputs": [],
   "source": []
  },
  {
   "cell_type": "code",
   "execution_count": null,
   "metadata": {},
   "outputs": [],
   "source": []
  }
 ],
 "metadata": {
  "kernelspec": {
   "display_name": "tm",
   "language": "python",
   "name": "python3"
  },
  "language_info": {
   "codemirror_mode": {
    "name": "ipython",
    "version": 3
   },
   "file_extension": ".py",
   "mimetype": "text/x-python",
   "name": "python",
   "nbconvert_exporter": "python",
   "pygments_lexer": "ipython3",
   "version": "3.13.2"
  }
 },
 "nbformat": 4,
 "nbformat_minor": 2
}
