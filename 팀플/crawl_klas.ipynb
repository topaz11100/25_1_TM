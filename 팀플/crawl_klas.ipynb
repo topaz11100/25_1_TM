{
 "cells": [
  {
   "cell_type": "code",
   "execution_count": 1,
   "id": "17db7d20",
   "metadata": {},
   "outputs": [],
   "source": [
    "from selenium import webdriver\n",
    "from selenium.webdriver.edge.service import Service as EdgeService\n",
    "from selenium.webdriver.edge.options import Options as EdgeOptions\n",
    "from selenium.webdriver.common.by import By\n",
    "import pandas as pd\n",
    "import numpy as np\n",
    "import time"
   ]
  },
  {
   "cell_type": "code",
   "execution_count": 2,
   "id": "fd864556",
   "metadata": {},
   "outputs": [],
   "source": [
    "#출력 파일 이름, csv행 <- 제어 편의를 위해 일부로 xpath키랑 맞춤\n",
    "result_file_name = 'klas_data.csv'\n",
    "csv_column = ['강의제목', '과목개요', '학습목표']"
   ]
  },
  {
   "cell_type": "code",
   "execution_count": 3,
   "id": "94c256a9",
   "metadata": {},
   "outputs": [],
   "source": [
    "#판별자\n",
    "#해당 경로의 텍스트가 '외국어 강의' 면 외국어강의 항목이 있다\n",
    "diff_element = '//*[@id=\"appModule\"]/div[2]/div[2]/table[2]/tbody/tr[2]/th'\n",
    "\n",
    "#가져올 요소의 주소 <- 외부키는 조건문편의를 위해 웹 출력값 그대로 이용\n",
    "#                     내부키는 제어 편의를 위해 csv행과 맞춤\n",
    "target_xpath = {\n",
    "    '외국어 강의' : {\n",
    "        csv_column[0] : '//*[@id=\"appModule\"]/div[2]/div[2]/table[1]/tbody/tr[1]/td[1]' ,\n",
    "        csv_column[1] : '//*[@id=\"appModule\"]/div[2]/div[2]/table[2]/tbody/tr[4]/td',\n",
    "        csv_column[2] : '//*[@id=\"appModule\"]/div[2]/div[2]/table[2]/tbody/tr[6]/td'\n",
    "    },\n",
    "    '교과목\\n개요' : {\n",
    "        csv_column[0] : '//*[@id=\"appModule\"]/div[2]/div[2]/table[1]/tbody/tr[1]/td[1]',\n",
    "        csv_column[1] : '//*[@id=\"appModule\"]/div[2]/div[2]/table[2]/tbody/tr[2]/td',\n",
    "        csv_column[2] : '//*[@id=\"appModule\"]/div[2]/div[2]/table[2]/tbody/tr[4]/td'\n",
    "    }\n",
    "}"
   ]
  },
  {
   "cell_type": "code",
   "execution_count": 4,
   "id": "e3bbf5e8",
   "metadata": {},
   "outputs": [],
   "source": [
    "#연도, 학기\n",
    "year, term = \"2025\", '1'\n",
    "#가져올 강의의 학정 번호\n",
    "hakjeong_list  = [\n",
    "    \"6030-2-1821-01\",\n",
    "    \"6030-3-1862-01\",\n",
    "    \"6030-3-1862-02\",\n",
    "    \"6030-1-3806-01\",\n",
    "    \"6030-1-6721-01\",\n",
    "    \"6030-2-0696-01\",\n",
    "    \"6030-2-0779-01\",\n",
    "    \"6030-2-0820-01\",\n",
    "    \"6030-2-1186-01\",\n",
    "    \"6030-2-1234-01\",\n",
    "    \"6030-2-1506-01\",\n",
    "    \"6030-2-9639-01\",\n",
    "    \"6030-3-0878-01\",\n",
    "    \"6030-3-1120-01\",\n",
    "    \"6030-3-4264-01\",\n",
    "    \"6030-3-5694-01\",\n",
    "    \"6030-3-8504-01\",\n",
    "    \"6030-3-9640-01\",\n",
    "    \"6030-4-0410-01\",\n",
    "    \"6030-4-0854-01\",\n",
    "    \"6030-4-3190-01\",\n",
    "    \"6030-4-4883-01\",\n",
    "    \"6030-4-6544-01\"\n",
    "]\n"
   ]
  },
  {
   "cell_type": "code",
   "execution_count": 5,
   "id": "c6b13fa1",
   "metadata": {},
   "outputs": [],
   "source": [
    "#연도, 학기, 학정번호 이용 강의계획서 url반환\n",
    "def make_url(year, term, hakjeong):\n",
    "    major, grade, num, section = hakjeong.split(\"-\")\n",
    "    base = 'https://klas.kw.ac.kr/std/cps/atnlc/popup/LectrePlanStdView.do?selectSubj=U'\n",
    "    return base + year + term + num + major + section + grade"
   ]
  },
  {
   "cell_type": "code",
   "execution_count": 6,
   "id": "0dad6cc4",
   "metadata": {},
   "outputs": [],
   "source": [
    "# 함수: XPath에서 텍스트 추출 (공란이면 None)\n",
    "def get_text_or_nan(driver, xpath):\n",
    "    try:\n",
    "        txt = driver.find_element(By.XPATH, xpath).text.strip()\n",
    "        return txt if txt else None\n",
    "    except:\n",
    "        return None"
   ]
  },
  {
   "cell_type": "code",
   "execution_count": 7,
   "id": "39f3d90c",
   "metadata": {},
   "outputs": [
    {
     "name": "stdout",
     "output_type": "stream",
     "text": [
      "✅ klas_data.csv 저장 완료!\n"
     ]
    }
   ],
   "source": [
    "driver = webdriver.Chrome()\n",
    "\n",
    "# 수동 로그인 (한 번 로그인하면 쿠키 유지됨)\n",
    "driver.get(\"https://klas.kw.ac.kr\")\n",
    "input(\"KLAS에 로그인한 후 엔터를 누르세요...\")\n",
    "\n",
    "# 새 빈 탭으로 이동\n",
    "driver.execute_script(\"window.open();\")\n",
    "time.sleep(1)\n",
    "driver.switch_to.window(driver.window_handles[-1])\n",
    "time.sleep(1.5)\n",
    "\n",
    "# 크롤링 결과를 저장, 데이터프레임으로 만들 딕셔너리\n",
    "data = {i:[] for i in csv_column}\n",
    "\n",
    "# 학정번호마다 크롤링 실행\n",
    "for hakjeong in hakjeong_list:\n",
    "\n",
    "    url = make_url(year, term, hakjeong)\n",
    "\n",
    "    driver.get(url)\n",
    "    time.sleep(1)\n",
    "    \n",
    "    for k, v in target_xpath[get_text_or_nan(driver, diff_element)].items():\n",
    "        data[k].append(get_text_or_nan(driver, v))\n",
    "\n",
    "# 데이터프레임으로 변환하고 CSV로 저장\n",
    "df = pd.DataFrame(data)\n",
    "df.to_csv(result_file_name, index=False, encoding = 'cp949')\n",
    "\n",
    "print(\"✅ klas_data.csv 저장 완료!\")"
   ]
  },
  {
   "cell_type": "code",
   "execution_count": null,
   "id": "0e88b252",
   "metadata": {},
   "outputs": [],
   "source": []
  }
 ],
 "metadata": {
  "kernelspec": {
   "display_name": "tm",
   "language": "python",
   "name": "python3"
  },
  "language_info": {
   "codemirror_mode": {
    "name": "ipython",
    "version": 3
   },
   "file_extension": ".py",
   "mimetype": "text/x-python",
   "name": "python",
   "nbconvert_exporter": "python",
   "pygments_lexer": "ipython3",
   "version": "3.13.2"
  }
 },
 "nbformat": 4,
 "nbformat_minor": 5
}
