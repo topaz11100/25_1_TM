{
 "cells": [
  {
   "cell_type": "code",
   "execution_count": null,
   "id": "0a0e5ac0",
   "metadata": {},
   "outputs": [],
   "source": [
    "import requests\n",
    "import pandas as pd\n",
    "import asyncio\n",
    "import async_detail\n",
    "import multy_prep"
   ]
  },
  {
   "cell_type": "code",
   "execution_count": null,
   "id": "688bfb9b",
   "metadata": {},
   "outputs": [],
   "source": [
    "BASE = 'http://apis.data.go.kr/B552881/kmooc_v2_0'\n",
    "USER_KEY = '4dQUnlK2Peou3UqMCZI/BvvlN7OzG+OC2/sFP+oQj98ZjyYemLV6m+h13fLSXPfxiPkH9chLWFz/9SV7J7Vptw=='\n",
    "\n",
    "LIST = '/courseList_v2_0'\n",
    "SIZE = 14137\n",
    "LIST_PARAMS = {\n",
    "    'ServiceKey': USER_KEY,\n",
    "    'Size': SIZE,\n",
    "}\n",
    "\n",
    "DETAIL = '/courseDetail_v2_0'\n",
    "\n",
    "FILE_NAME = 'kmooc_data.csv'\n",
    "CPU = 6"
   ]
  },
  {
   "cell_type": "code",
   "execution_count": null,
   "id": "aa07798a",
   "metadata": {},
   "outputs": [],
   "source": [
    "def get_public_course_list():\n",
    "    response = requests.get(BASE+LIST, params=LIST_PARAMS)\n",
    "    result = response.json()['items']\n",
    "    return [i['id'] for i in result if i['public_yn'] == 'Y']"
   ]
  },
  {
   "cell_type": "code",
   "execution_count": null,
   "id": "ce6c8357",
   "metadata": {},
   "outputs": [],
   "source": [
    "id_list = get_public_course_list()"
   ]
  },
  {
   "cell_type": "code",
   "execution_count": null,
   "id": "9a702bc0",
   "metadata": {},
   "outputs": [],
   "source": [
    "names, summarys = await async_detail.fetch_all_courses(id_list, BASE+DETAIL, USER_KEY)"
   ]
  },
  {
   "cell_type": "code",
   "execution_count": null,
   "id": "efef9188",
   "metadata": {},
   "outputs": [],
   "source": [
    "data = multy_prep.prep_data(names, summarys)\n",
    "data = pd.DataFrame(data)\n",
    "data.to_csv(FILE_NAME, index=False)"
   ]
  },
  {
   "cell_type": "code",
   "execution_count": null,
   "id": "139dcadf",
   "metadata": {},
   "outputs": [],
   "source": []
  }
 ],
 "metadata": {
  "kernelspec": {
   "display_name": "tm",
   "language": "python",
   "name": "python3"
  },
  "language_info": {
   "codemirror_mode": {
    "name": "ipython",
    "version": 3
   },
   "file_extension": ".py",
   "mimetype": "text/x-python",
   "name": "python",
   "nbconvert_exporter": "python",
   "pygments_lexer": "ipython3",
   "version": "3.13.2"
  }
 },
 "nbformat": 4,
 "nbformat_minor": 5
}
