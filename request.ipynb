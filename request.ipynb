{
 "cells": [
  {
   "cell_type": "code",
   "execution_count": null,
   "metadata": {},
   "outputs": [],
   "source": [
    "import requests\n",
    "\n",
    "#설정상수\n",
    "OC = 'topaz11100'\n",
    "TYPE = 'JSON'\n",
    "\n",
    "#본문조회상수\n",
    "TEXT_URL = 'http://www.law.go.kr/DRF/lawService.do?target=prec'\n",
    "TEXT_PARAM = {\n",
    "    'OC': OC,\n",
    "    'ID': '241881',\n",
    "    'type': TYPE\n",
    "}\n",
    "\n",
    "#목록조회상수\n",
    "LIST_URL = 'http://www.law.go.kr/DRF/lawSearch.do?target=prec'\n",
    "LIST_PARAM = {\n",
    "    'OC': OC,\n",
    "    'type': TYPE,\n",
    "    'display': 100\n",
    "}\n",
    "\n",
    "#요청, 응답을 딕셔너리로 반환환\n",
    "def api_to_dict(url, param):\n",
    "    response = requests.get(url, params=param)\n",
    "    response.raise_for_status()\n",
    "    return next(iter(response.json().values()))\n"
   ]
  },
  {
   "cell_type": "code",
   "execution_count": null,
   "metadata": {},
   "outputs": [],
   "source": [
    "#판례번호에 맞는 판례가 있으면 딕셔너리, 없으면 스트링\n",
    "api_to_dict(TEXT_URL, TEXT_PARAM)"
   ]
  },
  {
   "cell_type": "code",
   "execution_count": null,
   "metadata": {},
   "outputs": [],
   "source": [
    "#검색설정\n",
    "def make_query_param(query):\n",
    "    result = LIST_PARAM.copy()\n",
    "    result.update({'query' : query})\n",
    "    return result\n",
    "\n",
    "api_to_dict(LIST_URL, make_query_param('이혼'))"
   ]
  },
  {
   "cell_type": "code",
   "execution_count": null,
   "metadata": {},
   "outputs": [],
   "source": []
  }
 ],
 "metadata": {
  "kernelspec": {
   "display_name": "tm",
   "language": "python",
   "name": "python3"
  },
  "language_info": {
   "codemirror_mode": {
    "name": "ipython",
    "version": 3
   },
   "file_extension": ".py",
   "mimetype": "text/x-python",
   "name": "python",
   "nbconvert_exporter": "python",
   "pygments_lexer": "ipython3",
   "version": "3.13.2"
  }
 },
 "nbformat": 4,
 "nbformat_minor": 2
}
