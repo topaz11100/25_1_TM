{
 "cells": [
  {
   "cell_type": "code",
   "execution_count": 1,
   "id": "27c25cae",
   "metadata": {},
   "outputs": [],
   "source": [
    "import numpy as np\n",
    "import pandas as pd\n",
    "import re\n",
    "from pathlib import Path\n",
    "import multi"
   ]
  },
  {
   "cell_type": "code",
   "execution_count": 2,
   "id": "17d801d5",
   "metadata": {},
   "outputs": [],
   "source": [
    "RAW, DATA = '../raw_data/', '../data/'\n",
    "COLUMN = ['Article Title', 'Abstract', 'DOI']\n",
    "FILE = DATA + 'origin_data.csv'"
   ]
  },
  {
   "cell_type": "code",
   "execution_count": 3,
   "id": "0e8f6928",
   "metadata": {},
   "outputs": [],
   "source": [
    "#엑셀 파일 리스트 반환\n",
    "def excel_list(path):\n",
    "    folder = Path(path).absolute()\n",
    "    return [f.name for f in folder.iterdir() if f.is_file()]\n",
    "\n",
    "#특문 없애기(변화시 생성되어서 지워야함)\n",
    "def clean_text(text):\n",
    "    return re.sub(r\"[^\\w\\s.,!?;:\\-]\", \"\", text)\n",
    "\n",
    "#wos에서 엑셀 받은것 병합\n",
    "def prep_concat(excel_list):\n",
    "\n",
    "    concat_list = []\n",
    "    #쓸 열 만 남기기\n",
    "    def cutted_df(excel_name):\n",
    "        d = pd.read_excel(excel_name)\n",
    "        d = d[COLUMN]\n",
    "        d = d.dropna(subset = COLUMN)\n",
    "        return d\n",
    "    \n",
    "    for e in excel_list:\n",
    "        concat_list.append(cutted_df(RAW + e))\n",
    "    #중복제거 및 특문 제거\n",
    "    result = pd.concat(concat_list, axis=0, ignore_index=True)\n",
    "    result = result.drop_duplicates(subset=COLUMN)\n",
    "    result['Article Title'] = result['Article Title'].apply(clean_text)\n",
    "    result['Abstract'] = result['Abstract'].apply(clean_text)\n",
    "    \n",
    "    return result\n",
    "#경로의 엑셀 모두 하나의 csv로 저장\n",
    "def make_one_csv(e, file_name):\n",
    "    m = prep_concat(e)\n",
    "    m.to_csv(file_name, index=False)"
   ]
  },
  {
   "cell_type": "code",
   "execution_count": 4,
   "id": "e2a6a220",
   "metadata": {},
   "outputs": [],
   "source": [
    "#날짜 부여\n",
    "def make_date_csv(file_name):\n",
    "    df = pd.read_csv(file_name)\n",
    "    df = multi.df_multi_process(df, multi.add_date)\n",
    "    df.to_csv(file_name, index=False)"
   ]
  },
  {
   "cell_type": "code",
   "execution_count": 5,
   "id": "9bf6454c",
   "metadata": {},
   "outputs": [],
   "source": [
    "#각 task용 데이터에 맞게 전처리\n",
    "def make_lda_data(file_name):\n",
    "    lda_data = pd.read_csv(file_name)\n",
    "    lda_data = multi.df_multi_process(lda_data, multi.text_prep, 6)\n",
    "    lda_data.to_csv(DATA + 'lda_data.csv', index=False)\n",
    "\n",
    "def make_bertopic_data(file_name):\n",
    "    bertopic_data = pd.read_csv(file_name)\n",
    "    bertopic_data.to_csv(DATA + 'bertopic_data.csv', index=False)"
   ]
  },
  {
   "cell_type": "code",
   "execution_count": 6,
   "id": "3d853630",
   "metadata": {},
   "outputs": [
    {
     "name": "stderr",
     "output_type": "stream",
     "text": [
      "d:\\miniconda3\\envs\\tm\\Lib\\site-packages\\numpy\\_core\\fromnumeric.py:57: FutureWarning: 'DataFrame.swapaxes' is deprecated and will be removed in a future version. Please use 'DataFrame.transpose' instead.\n",
      "  return bound(*args, **kwds)\n"
     ]
    }
   ],
   "source": [
    "#종합 실행\n",
    "def make_data(raw_path, file_name):\n",
    "    #make_one_csv(excel_list(raw_path), file_name)\n",
    "    #make_date_csv(file_name)\n",
    "    make_lda_data(file_name)\n",
    "    #make_bertopic_data(file_name)\n",
    "\n",
    "make_data(RAW, FILE)"
   ]
  },
  {
   "cell_type": "code",
   "execution_count": null,
   "id": "f2574236",
   "metadata": {},
   "outputs": [],
   "source": []
  },
  {
   "cell_type": "code",
   "execution_count": null,
   "id": "304332a0",
   "metadata": {},
   "outputs": [],
   "source": []
  },
  {
   "cell_type": "code",
   "execution_count": null,
   "id": "ac72958f",
   "metadata": {},
   "outputs": [],
   "source": []
  }
 ],
 "metadata": {
  "kernelspec": {
   "display_name": "tm",
   "language": "python",
   "name": "python3"
  },
  "language_info": {
   "codemirror_mode": {
    "name": "ipython",
    "version": 3
   },
   "file_extension": ".py",
   "mimetype": "text/x-python",
   "name": "python",
   "nbconvert_exporter": "python",
   "pygments_lexer": "ipython3",
   "version": "3.13.2"
  }
 },
 "nbformat": 4,
 "nbformat_minor": 5
}
