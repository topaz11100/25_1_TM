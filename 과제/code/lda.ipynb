{
 "cells": [
  {
   "cell_type": "code",
   "execution_count": null,
   "id": "f51f380f",
   "metadata": {},
   "outputs": [],
   "source": [
    "from sklearn.feature_extraction.text import TfidfVectorizer\n",
    "from sklearn.feature_extraction.text import CountVectorizer\n",
    "from sklearn.decomposition import LatentDirichletAllocation\n",
    "import numpy as np\n",
    "import pandas as pd\n",
    "import matplotlib.pyplot as plt\n",
    "import pyLDAvis\n",
    "import pyLDAvis.sklearn\n",
    "pyLDAvis.enable_notebook()"
   ]
  },
  {
   "cell_type": "code",
   "execution_count": null,
   "id": "6b270b92",
   "metadata": {},
   "outputs": [],
   "source": [
    "data = pd.read_csv('lda_data.csv')\n",
    "topic_count = 6"
   ]
  },
  {
   "cell_type": "code",
   "execution_count": null,
   "id": "4adae451",
   "metadata": {},
   "outputs": [],
   "source": [
    "vector = CountVectorizer()\n",
    "X = vector.fit_transform(data['Abstract'])\n",
    "lda_model = LatentDirichletAllocation(n_components=topic_count, learning_method='batch', random_state=0,\n",
    "                                      max_iter=150, evaluate_every=10, n_jobs=-1)\n",
    "lda_top = lda_model.fit_transform(X)"
   ]
  },
  {
   "cell_type": "code",
   "execution_count": null,
   "id": "1b64f9a1",
   "metadata": {},
   "outputs": [],
   "source": [
    "# 단어 집합. 1,000개의 단어가 저장됨.\n",
    "terms = vector.get_feature_names_out()\n",
    "\n",
    "def get_topics(components, feature_names, n=20):\n",
    "    for idx, topic in enumerate(components):\n",
    "        print(\"Topic %d:\" % (idx+1), [feature_names[i] for i in topic.argsort()[:-n - 1:-1]])\n",
    "\n",
    "get_topics(lda_model.components_, terms)"
   ]
  },
  {
   "cell_type": "code",
   "execution_count": null,
   "id": "dbef40b3",
   "metadata": {},
   "outputs": [],
   "source": [
    "def cold_hot_plot(data, topic_count, lda_result, fig_size):\n",
    "    df = pd.DataFrame({'Date': data['Date'], 'Topic': lda_result.argmax(axis = 1)})\n",
    "    df = df.groupby(['Date', 'Topic']).size().unstack(fill_value=0)\n",
    "    \n",
    "    plt.figure(figsize=(topic_count*fig_size[0], fig_size[1]))\n",
    "    plot = df.plot(subplots=True, layout=(1, topic_count),\n",
    "                   figsize=(topic_count*fig_size[0], fig_size[1]),\n",
    "                   sharex=True, sharey=True, legend=True)\n",
    "    \n",
    "    for sub_p in plot.flatten():\n",
    "        sub_p.set_xlabel('Month')\n",
    "        sub_p.set_ylabel('Count')\n",
    "        sub_p.grid(True)\n",
    "        sub_p.tick_params(axis='x', rotation=90)\n",
    "    \n",
    "    plt.tight_layout()\n",
    "    plt.show()\n",
    "    \n",
    "cold_hot_plot(data, 10, lda_top, (10, 10))"
   ]
  }
 ],
 "metadata": {
  "kernelspec": {
   "display_name": "tm",
   "language": "python",
   "name": "python3"
  },
  "language_info": {
   "codemirror_mode": {
    "name": "ipython",
    "version": 3
   },
   "file_extension": ".py",
   "mimetype": "text/x-python",
   "name": "python",
   "nbconvert_exporter": "python",
   "pygments_lexer": "ipython3",
   "version": "3.13.2"
  }
 },
 "nbformat": 4,
 "nbformat_minor": 5
}
