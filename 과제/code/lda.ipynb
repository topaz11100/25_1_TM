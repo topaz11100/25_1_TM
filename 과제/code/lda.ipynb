{
 "cells": [
  {
   "cell_type": "code",
   "execution_count": 1,
   "id": "f51f380f",
   "metadata": {},
   "outputs": [],
   "source": [
    "from sklearn.feature_extraction.text import TfidfVectorizer\n",
    "from sklearn.feature_extraction.text import CountVectorizer\n",
    "from sklearn.decomposition import LatentDirichletAllocation\n",
    "import numpy as np\n",
    "import pandas as pd\n",
    "import pyLDAvis\n",
    "import pyLDAvis.sklearn\n",
    "pyLDAvis.enable_notebook()"
   ]
  },
  {
   "cell_type": "code",
   "execution_count": 12,
   "id": "6b270b92",
   "metadata": {},
   "outputs": [],
   "source": [
    "data = pd.read_csv('lda_data.csv')"
   ]
  },
  {
   "cell_type": "code",
   "execution_count": 18,
   "id": "4adae451",
   "metadata": {},
   "outputs": [
    {
     "data": {
      "text/plain": [
       "(10707, 24314)"
      ]
     },
     "execution_count": 18,
     "metadata": {},
     "output_type": "execute_result"
    }
   ],
   "source": [
    "vector = TfidfVectorizer()\n",
    "X = vector.fit_transform(data['Abstract'])\n",
    "X.shape"
   ]
  },
  {
   "cell_type": "code",
   "execution_count": 19,
   "id": "074aa988",
   "metadata": {},
   "outputs": [
    {
     "name": "stdout",
     "output_type": "stream",
     "text": [
      "[[0.32851149 3.61782141 0.3122733  ... 0.16714171 0.27951247 0.39515101]\n",
      " [0.1666927  0.16717557 0.16669241 ... 0.16666994 0.16669967 0.16669087]\n",
      " [0.16669429 0.16672372 0.16669398 ... 0.23112542 0.16670169 0.17016151]\n",
      " [0.16667738 0.16698075 0.16667658 ... 0.16666795 0.16667927 0.16667634]\n",
      " [0.16669445 0.16709401 0.16669414 ... 0.16667016 0.16670189 0.1666925 ]\n",
      " [0.16669364 0.1669213  0.16669333 ... 0.16667021 0.16670086 0.16669174]]\n",
      "(6, 24314)\n"
     ]
    }
   ],
   "source": [
    "lda_model = LatentDirichletAllocation(n_components=6, learning_method='batch', random_state=0, max_iter=20, n_jobs=-1)\n",
    "lda_top = lda_model.fit_transform(X)\n",
    "print(lda_model.components_)\n",
    "print(lda_model.components_.shape) "
   ]
  },
  {
   "cell_type": "code",
   "execution_count": 20,
   "id": "1b64f9a1",
   "metadata": {},
   "outputs": [
    {
     "name": "stdout",
     "output_type": "stream",
     "text": [
      "Topic 1: ['model', 'data', 'learn', 'train', 'privacy', 'federate', 'propose', 'clients', 'network', 'local', 'use', 'attack', 'devices', 'communication', 'approach', 'edge', 'performance', 'framework', 'accuracy', 'global']\n",
      "Topic 2: ['mus', 'lung', 'cancer', 'survival', 'asd', 'diabetes', 'icps', 'breast', 'fedsl', 'dsl', 'bpfl', 'qml', 'flex', 'pruw', 'oncology', 'liver', 'aqi', 'arrhythmia', 'msp', 'cb']\n",
      "Topic 3: ['evcs', 'satcoms', 'tse', 'descriptors', 'fedgr', 'blur', 'fda', 'pfa', 'bl', 'slimfl', 'pelta', 'invasion', 'satcom', 'flids', 'nsps', 'emg', 'svs', 'tsr', 'cave', 'fedkit']\n",
      "Topic 4: ['wireless', 'channel', 'problem', 'energy', 'allocation', 'algorithm', 'optimization', 'convergence', 'communication', 'power', 'resource', 'schedule', 'air', 'scheme', 'edge', 'cache', 'transmission', 'latency', 'propose', 'network']\n",
      "Topic 5: ['asr', 'fedmp', 'dmfl', 'psp', 'cmp', 'maas', 'adl', 'breathe', 'hdfl', 'fft', 'fedcls', 'cbfl', 'fedpec', 'feddc', 'poe', 'qp', 'rpl', 'fedclar', 'fedar', 'nestfl']\n",
      "Topic 6: ['blade', 'subgraphs', 'trojan', 'svd', 'fedga', 'tsc', 'scf', 'fedcom', 'bim', 'violence', 'orthogonalization', 'subgraph', 'svfl', 'ice', 'omega', 'sias', 'abs', 'fedgroup', 'conformal', 'fan']\n"
     ]
    }
   ],
   "source": [
    "# 단어 집합. 1,000개의 단어가 저장됨.\n",
    "terms = vector.get_feature_names_out()\n",
    "\n",
    "def get_topics(components, feature_names, n=20):\n",
    "    for idx, topic in enumerate(components):\n",
    "        print(\"Topic %d:\" % (idx+1), [feature_names[i] for i in topic.argsort()[:-n - 1:-1]])\n",
    "\n",
    "get_topics(lda_model.components_, terms)"
   ]
  },
  {
   "cell_type": "code",
   "execution_count": null,
   "id": "ad568396",
   "metadata": {},
   "outputs": [],
   "source": []
  }
 ],
 "metadata": {
  "kernelspec": {
   "display_name": "tm",
   "language": "python",
   "name": "python3"
  },
  "language_info": {
   "codemirror_mode": {
    "name": "ipython",
    "version": 3
   },
   "file_extension": ".py",
   "mimetype": "text/x-python",
   "name": "python",
   "nbconvert_exporter": "python",
   "pygments_lexer": "ipython3",
   "version": "3.13.2"
  }
 },
 "nbformat": 4,
 "nbformat_minor": 5
}
