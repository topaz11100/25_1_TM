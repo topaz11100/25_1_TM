{
 "cells": [
  {
   "cell_type": "code",
   "execution_count": 7,
   "id": "f51f380f",
   "metadata": {},
   "outputs": [],
   "source": [
    "from sklearn.feature_extraction.text import TfidfVectorizer\n",
    "from sklearn.feature_extraction.text import CountVectorizer\n",
    "from sklearn.decomposition import LatentDirichletAllocation\n",
    "import numpy as np\n",
    "import pandas as pd\n",
    "import pyLDAvis\n",
    "import pyLDAvis.sklearn\n",
    "pyLDAvis.enable_notebook()"
   ]
  },
  {
   "cell_type": "code",
   "execution_count": 8,
   "id": "6b270b92",
   "metadata": {},
   "outputs": [],
   "source": [
    "data = pd.read_csv('lda_data.csv')"
   ]
  },
  {
   "cell_type": "code",
   "execution_count": 9,
   "id": "4adae451",
   "metadata": {},
   "outputs": [
    {
     "data": {
      "text/plain": [
       "(10707, 24314)"
      ]
     },
     "execution_count": 9,
     "metadata": {},
     "output_type": "execute_result"
    }
   ],
   "source": [
    "vector = CountVectorizer()\n",
    "X = vector.fit_transform(data['Abstract'])\n",
    "X.shape"
   ]
  },
  {
   "cell_type": "code",
   "execution_count": 16,
   "id": "074aa988",
   "metadata": {},
   "outputs": [
    {
     "data": {
      "text/plain": [
       "array([[1.13673407e-03, 1.13666434e-03, 1.11422444e-01, ...,\n",
       "        1.13656467e-03, 1.13669495e-03, 1.13652399e-03],\n",
       "       [3.82386229e-01, 3.25903823e-01, 2.62627181e-01, ...,\n",
       "        6.33028441e-04, 6.33086634e-04, 6.33035207e-04],\n",
       "       [1.22418518e-01, 7.93817033e-04, 7.93940372e-04, ...,\n",
       "        1.54599865e-01, 7.93793819e-04, 7.93766976e-04],\n",
       "       ...,\n",
       "       [3.37121640e-01, 1.03113562e-03, 1.03127217e-03, ...,\n",
       "        1.03104735e-03, 1.03115237e-03, 4.29512873e-02],\n",
       "       [1.17678050e-03, 1.17664469e-03, 6.49188070e-01, ...,\n",
       "        6.96587357e-02, 1.58608372e-01, 1.17661088e-03],\n",
       "       [2.80956365e-01, 2.12818323e-03, 2.83219699e-01, ...,\n",
       "        2.12789476e-03, 2.12831378e-03, 2.12804692e-03]],\n",
       "      shape=(10707, 10))"
      ]
     },
     "execution_count": 16,
     "metadata": {},
     "output_type": "execute_result"
    }
   ],
   "source": [
    "lda_model = LatentDirichletAllocation(n_components=10, learning_method='batch', random_state=0,\n",
    "                                      max_iter=150, evaluate_every=10, n_jobs=-1)\n",
    "lda_top = lda_model.fit_transform(X)\n",
    "lda_top"
   ]
  },
  {
   "cell_type": "code",
   "execution_count": 17,
   "id": "1b64f9a1",
   "metadata": {},
   "outputs": [
    {
     "name": "stdout",
     "output_type": "stream",
     "text": [
      "Topic 1: ['data', 'model', 'learn', 'federate', 'privacy', 'train', 'propose', 'use', 'user', 'prediction', 'users', 'share', 'approach', 'accuracy', 'result', 'method', 'framework', 'base', 'centralize', 'information']\n",
      "Topic 2: ['data', 'medical', 'image', 'model', 'learn', 'use', 'healthcare', 'federate', 'study', 'patient', 'health', 'privacy', 'result', 'institutions', 'patients', 'research', 'analysis', 'clinical', 'approach', 'train']\n",
      "Topic 3: ['learn', 'data', 'federate', 'network', 'iot', 'privacy', 'challenge', 'edge', 'model', 'devices', 'approach', 'machine', 'distribute', 'systems', 'applications', 'security', 'use', 'framework', 'internet', 'process']\n",
      "Topic 4: ['network', 'learn', 'propose', 'federate', 'reinforcement', 'multi', 'deep', 'agents', 'based', 'algorithm', 'agent', 'satellite', 'improve', 'task', 'use', 'traffic', 'performance', 'framework', 'dfl', 'paper']\n",
      "Topic 5: ['model', 'train', 'learn', 'communication', 'federate', 'data', 'devices', 'clients', 'local', 'propose', 'server', 'convergence', 'accuracy', 'update', 'reduce', 'client', 'global', 'algorithm', 'distribute', 'performance']\n",
      "Topic 6: ['model', 'data', 'learn', 'federate', 'clients', 'local', 'train', 'propose', 'client', 'performance', 'global', 'non', 'cluster', 'datasets', 'method', 'iid', 'methods', 'knowledge', 'feature', 'challenge']\n",
      "Topic 7: ['propose', 'learn', 'edge', 'energy', 'problem', 'network', 'wireless', 'algorithm', 'resource', 'communication', 'scheme', 'train', 'federate', 'model', 'channel', 'result', 'devices', 'optimization', 'base', 'allocation']\n",
      "Topic 8: ['domain', 'label', 'fault', 'task', 'diagnosis', 'code', 'multi', 'source', 'class', 'semantic', 'supervised', 'target', 'cross', 'unlabeled', 'github', 'feature', 'https', 'available', 'knowledge', 'com']\n",
      "Topic 9: ['privacy', 'model', 'learn', 'data', 'federate', 'propose', 'train', 'scheme', 'mechanism', 'security', 'secure', 'aggregation', 'local', 'share', 'blockchain', 'differential', 'participants', 'however', 'private', 'result']\n",
      "Topic 10: ['attack', 'detection', 'model', 'poison', 'malicious', 'network', 'propose', 'detect', 'use', 'defense', 'train', 'intrusion', 'accuracy', 'security', 'backdoor', 'based', 'iiot', 'update', 'adversarial', 'traffic']\n"
     ]
    }
   ],
   "source": [
    "# 단어 집합. 1,000개의 단어가 저장됨.\n",
    "terms = vector.get_feature_names_out()\n",
    "\n",
    "def get_topics(components, feature_names, n=20):\n",
    "    for idx, topic in enumerate(components):\n",
    "        print(\"Topic %d:\" % (idx+1), [feature_names[i] for i in topic.argsort()[:-n - 1:-1]])\n",
    "\n",
    "get_topics(lda_model.components_, terms)"
   ]
  },
  {
   "cell_type": "code",
   "execution_count": null,
   "id": "dbef40b3",
   "metadata": {},
   "outputs": [],
   "source": []
  }
 ],
 "metadata": {
  "kernelspec": {
   "display_name": "tm",
   "language": "python",
   "name": "python3"
  },
  "language_info": {
   "codemirror_mode": {
    "name": "ipython",
    "version": 3
   },
   "file_extension": ".py",
   "mimetype": "text/x-python",
   "name": "python",
   "nbconvert_exporter": "python",
   "pygments_lexer": "ipython3",
   "version": "3.13.2"
  }
 },
 "nbformat": 4,
 "nbformat_minor": 5
}
