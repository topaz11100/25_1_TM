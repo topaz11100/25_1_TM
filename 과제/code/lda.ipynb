{
 "cells": [
  {
   "cell_type": "code",
   "execution_count": null,
   "id": "1ab89d96",
   "metadata": {},
   "outputs": [],
   "source": [
    "import numpy as np\n",
    "import pandas as pd\n",
    "import matplotlib.pyplot as plt\n",
    "from gensim import corpora, models\n",
    "from gensim.models import LdaMulticore\n",
    "import pyLDAvis\n",
    "import pyLDAvis.gensim_models as gensimvis\n",
    "pyLDAvis.enable_notebook()"
   ]
  },
  {
   "cell_type": "code",
   "execution_count": null,
   "id": "704d9728",
   "metadata": {},
   "outputs": [],
   "source": [
    "#상수\n",
    "PATH = '../data/lda_data.csv'\n",
    "OUTPUT = '../lda_vis.html'\n",
    "PICTURE = '../picture/'\n",
    "TEST = 5\n",
    "TOPIC = 6\n",
    "SAMPLE = 5"
   ]
  },
  {
   "cell_type": "code",
   "execution_count": null,
   "id": "2488e2b3",
   "metadata": {},
   "outputs": [],
   "source": [
    "#분할\n",
    "def make_data(path, test_count):\n",
    "    # 사전은 전체데이터로 구성\n",
    "    df = pd.read_csv(path)\n",
    "    docs = df['Abstract'].apply(lambda x: x.strip().split()).tolist()\n",
    "    dic = corpora.Dictionary(docs)\n",
    "    # x, y 분할\n",
    "    y = df.sample(n=test_count, random_state=42)\n",
    "    x = df.drop(y.index)\n",
    "    return x.reset_index(drop=True), y.reset_index(drop=True), dic\n",
    "\n",
    "#모델 요구 형식 반환\n",
    "def make_model_input(df, dic):\n",
    "    docs = df['Abstract'].apply(lambda x: x.strip().split()).tolist()\n",
    "    return [dic.doc2bow(t) for t in docs]"
   ]
  },
  {
   "cell_type": "code",
   "execution_count": null,
   "id": "b61ffcb2",
   "metadata": {},
   "outputs": [],
   "source": [
    "def learn_visualize(corpus, dictionary):\n",
    "    #LDA 멀티코어 학습\n",
    "    model = LdaMulticore(corpus = corpus,\n",
    "                         id2word = dictionary,\n",
    "                         num_topics = TOPIC, # 원하는 토픽 수\n",
    "                         random_state = 42,\n",
    "                         passes = 30,        # 학습 반복 횟수\n",
    "                         workers = 6,        # CPU 코어 수\n",
    "                         per_word_topics = True )\n",
    "    #pyLDAvis 시각화\n",
    "    vis_data = gensimvis.prepare(model, corpus, dictionary)\n",
    "    pyLDAvis.save_html(vis_data, OUTPUT)\n",
    "    pyLDAvis.display(vis_data)\n",
    "\n",
    "    #시각화 정보에 맞게 매핑\n",
    "    vis_map = {k:v for k, v in enumerate(vis_data.topic_order)}\n",
    "\n",
    "    return model, vis_map\n",
    "\n",
    "#문서리스트의 대응 토픽(시각화 기준) 반환\n",
    "def topic_list(model_input, model, topic_vis_map):\n",
    "    return [topic_vis_map[max(i, key=lambda x: x[1])[0]] for i in model.get_document_topics(model_input)]"
   ]
  },
  {
   "cell_type": "code",
   "execution_count": null,
   "id": "a723f5b7",
   "metadata": {},
   "outputs": [],
   "source": [
    "#학습한 토픽 별 제목 뽑기\n",
    "def print_train_sample_topic_title(df, topic, sample):\n",
    "    df = pd.DataFrame({'Title':df['Article Title'], 'Topic':topic})\n",
    "    #n개 뽑아 출력\n",
    "    print('Train Data')\n",
    "    for i in list(range(1, TOPIC + 1)):\n",
    "        print(f'Topic {i}')\n",
    "        temp = df.loc[df['Topic'] == i, 'Title'].sample(n=sample).array\n",
    "        for t in temp:\n",
    "            print(t)\n",
    "        print()\n",
    "\n",
    "#테스트 데이터 결과 출력\n",
    "def print_test_topic_title(df, topic):\n",
    "    print('Test Data')\n",
    "    print('Topic : Title')\n",
    "    for i in range(len(topic)):\n",
    "        print(f'{topic[i]} : {df.iloc[i, 0]}')\n",
    "    print()"
   ]
  },
  {
   "cell_type": "code",
   "execution_count": null,
   "id": "191083aa",
   "metadata": {},
   "outputs": [],
   "source": [
    "#연구 추세 그래프 출력 \n",
    "def make_time_plot(data, topic):\n",
    "    df = pd.DataFrame({'Date':data['Date'], 'Topic':topic})\n",
    "    df['Date'] = pd.to_datetime(df['Date']).dt.to_period('M').astype(str)\n",
    "    df = df.groupby(['Date', 'Topic']).size().unstack(fill_value=0)\n",
    "    \n",
    "    def save_show(plot, fime_name):\n",
    "        plot.set_xticks(range(len(df.index)))\n",
    "        plot.set_xticklabels(df.index, rotation=90)\n",
    "        plt.title('Monthly Topic Trends')\n",
    "        plt.xlabel('Date')\n",
    "        plt.ylabel('Document Count')\n",
    "        plt.xticks(rotation=90)\n",
    "        plt.tight_layout()\n",
    "        plt.savefig(f'{PICTURE}{fime_name}.png')\n",
    "        plt.show()\n",
    "\n",
    "    topic_iter = list(range(1, TOPIC + 1))\n",
    "    \n",
    "    plot = df.plot(y=topic_iter, legend=True, figsize=(20, 10))\n",
    "    save_show(plot, 'total')\n",
    "\n",
    "    for i in topic_iter:\n",
    "        plot = df.plot(y=i, legend=True, figsize=(20, 10))\n",
    "        save_show(plot, str(i))"
   ]
  },
  {
   "cell_type": "code",
   "execution_count": null,
   "id": "f065cee7",
   "metadata": {},
   "outputs": [],
   "source": [
    "x, y, dic = make_data(PATH, TEST)\n",
    "x_input, y_input = make_model_input(x, dic), make_model_input(y, dic)\n",
    "\n",
    "model, vis_map = learn_visualize(x_input, dic)\n",
    "\n",
    "x_topics, y_topics = topic_list(x_input, model, vis_map), topic_list(y_input, model, vis_map)\n",
    "\n",
    "print_train_sample_topic_title(x, x_topics, SAMPLE)\n",
    "print_test_topic_title(y, y_topics)\n",
    "\n",
    "make_time_plot(x, x_topics)"
   ]
  }
 ],
 "metadata": {
  "kernelspec": {
   "display_name": "tm",
   "language": "python",
   "name": "python3"
  },
  "language_info": {
   "codemirror_mode": {
    "name": "ipython",
    "version": 3
   },
   "file_extension": ".py",
   "mimetype": "text/x-python",
   "name": "python",
   "nbconvert_exporter": "python",
   "pygments_lexer": "ipython3",
   "version": "3.13.2"
  }
 },
 "nbformat": 4,
 "nbformat_minor": 5
}
