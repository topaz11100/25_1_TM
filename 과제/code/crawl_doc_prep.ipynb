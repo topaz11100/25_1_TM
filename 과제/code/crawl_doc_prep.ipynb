{
 "cells": [
  {
   "cell_type": "code",
   "execution_count": null,
   "id": "27c25cae",
   "metadata": {},
   "outputs": [],
   "source": [
    "import pyautogui as pg\n",
    "import time\n",
    "import numpy as np\n",
    "import pandas as pd\n",
    "from pathlib import Path\n",
    "from habanero import Crossref\n",
    "import multi"
   ]
  },
  {
   "cell_type": "code",
   "execution_count": null,
   "id": "6bc09f83",
   "metadata": {},
   "outputs": [],
   "source": [
    "NEXT_PAGE = (540, 608)\n",
    "EXPORT_BUTTON = (696, 568)\n",
    "EXCEL = (650, 789)\n",
    "RECORD_CONTENT_BUTTON = (632, 891)\n",
    "FULL_EXPORT = (388, 945)\n",
    "SEQ = [EXPORT_BUTTON, EXCEL, RECORD_CONTENT_BUTTON, FULL_EXPORT, FULL_EXPORT, NEXT_PAGE]\n",
    "\n",
    "def download():\n",
    "    while True:\n",
    "        for i in SEQ:\n",
    "            pg.click(*i)\n",
    "            time.sleep(2)\n",
    "download()"
   ]
  },
  {
   "cell_type": "code",
   "execution_count": null,
   "id": "17d801d5",
   "metadata": {},
   "outputs": [],
   "source": [
    "base_path = 'source/'\n",
    "use_column = ['Article Title', 'Abstract', 'DOI']\n",
    "file_name = 'origin_data.csv'"
   ]
  },
  {
   "cell_type": "code",
   "execution_count": null,
   "id": "0e8f6928",
   "metadata": {},
   "outputs": [],
   "source": [
    "def excel_list():\n",
    "    folder = Path(base_path)\n",
    "    return [f.name for f in folder.iterdir() if f.is_file()]\n",
    "\n",
    "def prep_concat(excel_list):\n",
    "\n",
    "    concat_list = []\n",
    "\n",
    "    def cutted_df(file_name):\n",
    "        d = pd.read_excel(base_path + file_name)\n",
    "        d = d[use_column]\n",
    "        d = d.dropna(subset = use_column)\n",
    "        return d\n",
    "    \n",
    "    for e in excel_list:\n",
    "        concat_list.append(cutted_df(e))\n",
    "\n",
    "    result = pd.concat(concat_list, axis=0, ignore_index=True)\n",
    "    return result.drop_duplicates(subset=['DOI'])\n",
    "\n",
    "def make_one_csv(e, file_name):\n",
    "    m = prep_concat(e)\n",
    "    m.to_csv(file_name, index=False)\n",
    "\n",
    "#make_one_csv(excel_list(), file_name)"
   ]
  },
  {
   "cell_type": "code",
   "execution_count": null,
   "id": "e2a6a220",
   "metadata": {},
   "outputs": [],
   "source": [
    "def make_date_csv(file_name):\n",
    "    df = pd.read_csv(file_name)\n",
    "    df = multi.df_multi_process(df, multi.add_date)\n",
    "    df.to_csv(file_name, index=False)\n",
    "\n",
    "make_date_csv(file_name)"
   ]
  }
 ],
 "metadata": {
  "kernelspec": {
   "display_name": "tm",
   "language": "python",
   "name": "python3"
  },
  "language_info": {
   "codemirror_mode": {
    "name": "ipython",
    "version": 3
   },
   "file_extension": ".py",
   "mimetype": "text/x-python",
   "name": "python",
   "nbconvert_exporter": "python",
   "pygments_lexer": "ipython3",
   "version": "3.13.2"
  }
 },
 "nbformat": 4,
 "nbformat_minor": 5
}
