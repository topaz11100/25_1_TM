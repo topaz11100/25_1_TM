{
 "cells": [
  {
   "cell_type": "code",
   "execution_count": null,
   "id": "1ab89d96",
   "metadata": {},
   "outputs": [],
   "source": [
    "import pandas as pd"
   ]
  },
  {
   "cell_type": "code",
   "execution_count": null,
   "id": "704d9728",
   "metadata": {},
   "outputs": [],
   "source": [
    "PATH = '../data/lda_data.csv'\n",
    "TEST = 5\n",
    "TOPIC = 6"
   ]
  },
  {
   "cell_type": "code",
   "execution_count": null,
   "id": "eccc73b6",
   "metadata": {},
   "outputs": [],
   "source": [
    "def split_data(path, test_count):\n",
    "    df = pd.read_csv(path)\n",
    "    y = df.sample(n=test_count, random_state=42)\n",
    "    x = df.drop(y.index)\n",
    "    return x.reset_index(drop=True), y.reset_index(drop=True)\n",
    "\n",
    "x, y = split_data(PATH, TEST)"
   ]
  },
  {
   "cell_type": "code",
   "execution_count": null,
   "id": "17465142",
   "metadata": {},
   "outputs": [],
   "source": []
  },
  {
   "cell_type": "code",
   "execution_count": null,
   "id": "0411bbf7",
   "metadata": {},
   "outputs": [],
   "source": [
    "import pandas as pd\n",
    "from gensim import corpora, models\n",
    "from gensim.models import LdaMulticore\n",
    "import pyLDAvis\n",
    "import pyLDAvis.gensim_models as gensimvis\n",
    "pyLDAvis.enable_notebook()\n",
    "\n",
    "# 1. 문자열 → 토큰 리스트\n",
    "chunk['tokens'] = chunk['Abstract'].apply(lambda x: x.strip().split())\n",
    "\n",
    "# 2. 토큰 리스트 모음 → Dictionary & Corpus 생성\n",
    "tokenized_doc = chunk['tokens'].tolist()\n",
    "dictionary = corpora.Dictionary(tokenized_doc)\n",
    "corpus = [dictionary.doc2bow(text) for text in tokenized_doc]\n",
    "\n",
    "# 3. LDA 멀티코어 학습\n",
    "lda_model = LdaMulticore(\n",
    "    corpus=corpus,\n",
    "    id2word=dictionary,\n",
    "    num_topics=5,         # 원하는 토픽 수\n",
    "    random_state=42,\n",
    "    passes=10,            # 학습 반복 횟수\n",
    "    workers=4,            # CPU 코어 수\n",
    "    chunksize=100,\n",
    "    per_word_topics=True\n",
    ")\n",
    "\n",
    "# 4. 토픽 출력\n",
    "for idx, topic in lda_model.print_topics(-1):\n",
    "    print(f\"🟢 Topic {idx}:\\n{topic}\\n\")\n",
    "\n",
    "# 5. pyLDAvis 시각화\n",
    "vis_data = gensimvis.prepare(lda_model, corpus, dictionary)\n",
    "pyLDAvis.show(vis_data)  # 주피터 환경이면 이걸로 바로 띄움\n"
   ]
  },
  {
   "cell_type": "code",
   "execution_count": null,
   "id": "fbab9eb2",
   "metadata": {},
   "outputs": [],
   "source": [
    "import matplotlib.pyplot as plt\n",
    "\n",
    "# 날짜 형식 변환\n",
    "chunk['Date'] = pd.to_datetime(chunk['Date']).dt.to_period('M').astype(str)  # 'YYYY-MM'\n",
    "\n",
    "# ① 문서별 토픽 추정 (가장 확률 높은 토픽 ID)\n",
    "doc_topics = [max(model[doc], key=lambda x: x[1])[0] for doc in corpus]\n",
    "chunk['Dominant_Topic'] = doc_topics\n",
    "\n",
    "# ② Date와 Dominant_Topic 기준으로 문서 수 세기\n",
    "df_trend = chunk.groupby(['Date', 'Dominant_Topic']).size().unstack(fill_value=0)\n",
    "\n",
    "# ③ 모든 토픽 추세 (한 프레임에)\n",
    "plt.figure(figsize=(12, 6))\n",
    "for topic_id in df_trend.columns:\n",
    "    plt.plot(df_trend.index, df_trend[topic_id], label=f'Topic {topic_id}')\n",
    "plt.title('📈 Monthly Topic Trends (All Topics)')\n",
    "plt.xlabel('Date')\n",
    "plt.ylabel('Document Count')\n",
    "plt.legend()\n",
    "plt.tight_layout()\n",
    "plt.show()\n",
    "\n",
    "# ④ 개별 토픽 추세 (하나씩)\n",
    "for topic_id in df_trend.columns:\n",
    "    plt.figure(figsize=(8, 4))\n",
    "    plt.plot(df_trend.index, df_trend[topic_id], marker='o')\n",
    "    plt.title(f'📊 Trend of Topic {topic_id}')\n",
    "    plt.xlabel('Date')\n",
    "    plt.ylabel('Document Count')\n",
    "    plt.xticks(rotation=45)\n",
    "    plt.tight_layout()\n",
    "    plt.show()\n"
   ]
  }
 ],
 "metadata": {
  "kernelspec": {
   "display_name": "tm",
   "language": "python",
   "name": "python3"
  },
  "language_info": {
   "name": "python",
   "version": "3.13.2"
  }
 },
 "nbformat": 4,
 "nbformat_minor": 5
}
