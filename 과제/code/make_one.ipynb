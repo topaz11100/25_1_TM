{
 "cells": [
  {
   "cell_type": "code",
   "execution_count": 2,
   "id": "80ffcab4",
   "metadata": {},
   "outputs": [],
   "source": [
    "import pandas as pd\n",
    "from pathlib import Path\n",
    "\n",
    "\n"
   ]
  },
  {
   "cell_type": "code",
   "execution_count": null,
   "id": "057ae72c",
   "metadata": {},
   "outputs": [
    {
     "name": "stdout",
     "output_type": "stream",
     "text": [
      "['savedrecs (1).xls', 'savedrecs (10).xls', 'savedrecs (100).xls', 'savedrecs (11).xls', 'savedrecs (12).xls', 'savedrecs (13).xls', 'savedrecs (14).xls', 'savedrecs (15).xls', 'savedrecs (16).xls', 'savedrecs (17).xls', 'savedrecs (18).xls', 'savedrecs (19).xls', 'savedrecs (2).xls', 'savedrecs (20).xls', 'savedrecs (21).xls', 'savedrecs (22).xls', 'savedrecs (23).xls', 'savedrecs (24).xls', 'savedrecs (25).xls', 'savedrecs (26).xls', 'savedrecs (27).xls', 'savedrecs (28).xls', 'savedrecs (29).xls', 'savedrecs (3).xls', 'savedrecs (30).xls', 'savedrecs (31).xls', 'savedrecs (32).xls', 'savedrecs (33).xls', 'savedrecs (34).xls', 'savedrecs (35).xls', 'savedrecs (36).xls', 'savedrecs (37).xls', 'savedrecs (38).xls', 'savedrecs (39).xls', 'savedrecs (4).xls', 'savedrecs (40).xls', 'savedrecs (41).xls', 'savedrecs (42).xls', 'savedrecs (43).xls', 'savedrecs (44).xls', 'savedrecs (45).xls', 'savedrecs (46).xls', 'savedrecs (47).xls', 'savedrecs (48).xls', 'savedrecs (49).xls', 'savedrecs (5).xls', 'savedrecs (50).xls', 'savedrecs (51).xls', 'savedrecs (52).xls', 'savedrecs (53).xls', 'savedrecs (54).xls', 'savedrecs (55).xls', 'savedrecs (56).xls', 'savedrecs (57).xls', 'savedrecs (58).xls', 'savedrecs (59).xls', 'savedrecs (6).xls', 'savedrecs (60).xls', 'savedrecs (61).xls', 'savedrecs (62).xls', 'savedrecs (63).xls', 'savedrecs (64).xls', 'savedrecs (65).xls', 'savedrecs (66).xls', 'savedrecs (67).xls', 'savedrecs (68).xls', 'savedrecs (69).xls', 'savedrecs (7).xls', 'savedrecs (70).xls', 'savedrecs (71).xls', 'savedrecs (72).xls', 'savedrecs (73).xls', 'savedrecs (74).xls', 'savedrecs (75).xls', 'savedrecs (76).xls', 'savedrecs (77).xls', 'savedrecs (78).xls', 'savedrecs (79).xls', 'savedrecs (8).xls', 'savedrecs (80).xls', 'savedrecs (81).xls', 'savedrecs (82).xls', 'savedrecs (83).xls', 'savedrecs (84).xls', 'savedrecs (85).xls', 'savedrecs (86).xls', 'savedrecs (87).xls', 'savedrecs (88).xls', 'savedrecs (89).xls', 'savedrecs (9).xls', 'savedrecs (90).xls', 'savedrecs (91).xls', 'savedrecs (92).xls', 'savedrecs (93).xls', 'savedrecs (94).xls', 'savedrecs (95).xls', 'savedrecs (96).xls', 'savedrecs (97).xls', 'savedrecs (98).xls', 'savedrecs (99).xls', 'savedrecs - 2025-04-30T012701.031.xls', 'savedrecs - 2025-04-30T012713.131.xls', 'savedrecs - 2025-04-30T012726.418.xls', 'savedrecs - 2025-04-30T012737.889.xls', 'savedrecs - 2025-04-30T012750.362.xls', 'savedrecs - 2025-04-30T012802.946.xls', 'savedrecs - 2025-04-30T012815.792.xls', 'savedrecs - 2025-04-30T012828.126.xls', 'savedrecs - 2025-04-30T012840.837.xls', 'savedrecs - 2025-04-30T012853.452.xls', 'savedrecs - 2025-04-30T012905.991.xls', 'savedrecs - 2025-04-30T012918.662.xls', 'savedrecs - 2025-04-30T012931.668.xls', 'savedrecs - 2025-04-30T012943.965.xls', 'savedrecs - 2025-04-30T012956.678.xls', 'savedrecs - 2025-04-30T013009.607.xls', 'savedrecs - 2025-04-30T013022.120.xls', 'savedrecs - 2025-04-30T013034.549.xls', 'savedrecs - 2025-04-30T013047.572.xls', 'savedrecs - 2025-04-30T013059.907.xls', 'savedrecs - 2025-04-30T013112.933.xls', 'savedrecs - 2025-04-30T013125.679.xls', 'savedrecs - 2025-04-30T013137.679.xls', 'savedrecs - 2025-04-30T013150.241.xls', 'savedrecs - 2025-04-30T013203.023.xls', 'savedrecs - 2025-04-30T013215.603.xls', 'savedrecs - 2025-04-30T013228.213.xls', 'savedrecs - 2025-04-30T013240.950.xls', 'savedrecs - 2025-04-30T013253.543.xls', 'savedrecs - 2025-04-30T013306.171.xls', 'savedrecs - 2025-04-30T013319.363.xls', 'savedrecs - 2025-04-30T013331.600.xls', 'savedrecs - 2025-04-30T013344.044.xls', 'savedrecs - 2025-04-30T013356.625.xls', 'savedrecs - 2025-04-30T013409.815.xls', 'savedrecs - 2025-04-30T013421.819.xls', 'savedrecs - 2025-04-30T013435.760.xls', 'savedrecs - 2025-04-30T013447.751.xls', 'savedrecs - 2025-04-30T013459.787.xls', 'savedrecs - 2025-04-30T013512.791.xls', 'savedrecs - 2025-04-30T013525.195.xls', 'savedrecs - 2025-04-30T013537.720.xls', 'savedrecs - 2025-04-30T013550.499.xls', 'savedrecs - 2025-04-30T013603.684.xls', 'savedrecs - 2025-04-30T013615.581.xls', 'savedrecs - 2025-04-30T013628.719.xls', 'savedrecs - 2025-04-30T013640.947.xls', 'savedrecs - 2025-04-30T013653.569.xls', 'savedrecs - 2025-04-30T013706.156.xls', 'savedrecs - 2025-04-30T013718.751.xls', 'savedrecs - 2025-04-30T013731.382.xls', 'savedrecs - 2025-04-30T013744.090.xls', 'savedrecs - 2025-04-30T013757.221.xls', 'savedrecs - 2025-04-30T013809.264.xls', 'savedrecs - 2025-04-30T013821.865.xls', 'savedrecs - 2025-04-30T013834.654.xls', 'savedrecs - 2025-04-30T013848.334.xls', 'savedrecs - 2025-04-30T013859.748.xls', 'savedrecs - 2025-04-30T013913.047.xls', 'savedrecs - 2025-04-30T013925.074.xls', 'savedrecs - 2025-04-30T013938.583.xls', 'savedrecs - 2025-04-30T013950.325.xls', 'savedrecs - 2025-04-30T014002.909.xls', 'savedrecs - 2025-04-30T014015.583.xls', 'savedrecs - 2025-04-30T014028.187.xls', 'savedrecs - 2025-04-30T014041.749.xls', 'savedrecs - 2025-04-30T014053.539.xls', 'savedrecs - 2025-04-30T014106.058.xls', 'savedrecs - 2025-04-30T014119.022.xls', 'savedrecs - 2025-04-30T014132.371.xls', 'savedrecs - 2025-04-30T014144.163.xls', 'savedrecs - 2025-04-30T014156.865.xls', 'savedrecs - 2025-04-30T014209.352.xls', 'savedrecs - 2025-04-30T014221.949.xls', 'savedrecs - 2025-04-30T014234.560.xls', 'savedrecs - 2025-04-30T014247.238.xls', 'savedrecs - 2025-04-30T014259.915.xls', 'savedrecs - 2025-04-30T014312.457.xls', 'savedrecs - 2025-04-30T014325.236.xls', 'savedrecs - 2025-04-30T014337.934.xls', 'savedrecs - 2025-04-30T014350.403.xls', 'savedrecs - 2025-04-30T014403.297.xls', 'savedrecs - 2025-04-30T014415.736.xls', 'savedrecs - 2025-04-30T014428.641.xls', 'savedrecs - 2025-04-30T014440.840.xls', 'savedrecs - 2025-04-30T014454.022.xls', 'savedrecs - 2025-04-30T014506.443.xls', 'savedrecs - 2025-04-30T014518.961.xls', 'savedrecs - 2025-04-30T014535.464.xls', 'savedrecs - 2025-04-30T014556.874.xls', 'savedrecs - 2025-04-30T014609.652.xls', 'savedrecs - 2025-04-30T014621.985.xls', 'savedrecs - 2025-04-30T014634.620.xls', 'savedrecs - 2025-04-30T014647.229.xls', 'savedrecs - 2025-04-30T014659.808.xls', 'savedrecs - 2025-04-30T014712.365.xls', 'savedrecs - 2025-04-30T014725.205.xls', 'savedrecs - 2025-04-30T014737.879.xls', 'savedrecs - 2025-04-30T014750.410.xls', 'savedrecs - 2025-04-30T014803.557.xls', 'savedrecs - 2025-04-30T014815.755.xls', 'savedrecs - 2025-04-30T014828.255.xls', 'savedrecs - 2025-04-30T014840.923.xls', 'savedrecs - 2025-04-30T014853.618.xls', 'savedrecs - 2025-04-30T014906.700.xls', 'savedrecs - 2025-04-30T014918.780.xls', 'savedrecs - 2025-04-30T014932.090.xls', 'savedrecs - 2025-04-30T014944.198.xls', 'savedrecs - 2025-04-30T014956.950.xls', 'savedrecs - 2025-04-30T015009.519.xls', 'savedrecs - 2025-04-30T015022.404.xls', 'savedrecs - 2025-04-30T015034.936.xls', 'savedrecs - 2025-04-30T015047.443.xls', 'savedrecs - 2025-04-30T015059.978.xls', 'savedrecs - 2025-04-30T015112.634.xls', 'savedrecs - 2025-04-30T015125.250.xls', 'savedrecs - 2025-04-30T015137.802.xls', 'savedrecs - 2025-04-30T015151.215.xls', 'savedrecs - 2025-04-30T015203.114.xls', 'savedrecs - 2025-04-30T015216.319.xls', 'savedrecs - 2025-04-30T015228.430.xls', 'savedrecs - 2025-04-30T015241.840.xls', 'savedrecs - 2025-04-30T015253.620.xls', 'savedrecs - 2025-04-30T015306.225.xls', 'savedrecs - 2025-04-30T015318.872.xls', 'savedrecs - 2025-04-30T015331.441.xls', 'savedrecs - 2025-04-30T015344.108.xls', 'savedrecs - 2025-04-30T015357.515.xls', 'savedrecs - 2025-04-30T015409.356.xls', 'savedrecs - 2025-04-30T015421.856.xls', 'savedrecs - 2025-04-30T015434.646.xls', 'savedrecs - 2025-04-30T015447.422.xls', 'savedrecs - 2025-04-30T015459.796.xls', 'savedrecs - 2025-04-30T015512.386.xls', 'savedrecs - 2025-04-30T015525.043.xls', 'savedrecs - 2025-04-30T015537.580.xls', 'savedrecs - 2025-04-30T015550.246.xls', 'savedrecs - 2025-04-30T015602.878.xls', 'savedrecs - 2025-04-30T015616.227.xls', 'savedrecs - 2025-04-30T015628.242.xls', 'savedrecs - 2025-04-30T015641.456.xls', 'savedrecs - 2025-04-30T015653.575.xls', 'savedrecs - 2025-04-30T015706.102.xls', 'savedrecs - 2025-04-30T015718.892.xls', 'savedrecs - 2025-04-30T015731.674.xls', 'savedrecs - 2025-04-30T015744.092.xls', 'savedrecs - 2025-04-30T015757.264.xls', 'savedrecs - 2025-04-30T015809.907.xls', 'savedrecs - 2025-04-30T015822.262.xls', 'savedrecs - 2025-04-30T015834.929.xls', 'savedrecs - 2025-04-30T015847.338.xls', 'savedrecs - 2025-04-30T015859.947.xls', 'savedrecs - 2025-04-30T015912.595.xls', 'savedrecs - 2025-04-30T015925.314.xls', 'savedrecs - 2025-04-30T015937.807.xls', 'savedrecs - 2025-04-30T015950.604.xls', 'savedrecs - 2025-04-30T020003.106.xls', 'savedrecs - 2025-04-30T020015.810.xls', 'savedrecs - 2025-04-30T020028.597.xls', 'savedrecs - 2025-04-30T020041.371.xls', 'savedrecs - 2025-04-30T020053.929.xls', 'savedrecs - 2025-04-30T020106.941.xls', 'savedrecs - 2025-04-30T020119.241.xls', 'savedrecs - 2025-04-30T020131.768.xls', 'savedrecs - 2025-04-30T020144.454.xls', 'savedrecs - 2025-04-30T020157.027.xls', 'savedrecs - 2025-04-30T020210.122.xls', 'savedrecs - 2025-04-30T020222.382.xls', 'savedrecs - 2025-04-30T020235.401.xls', 'savedrecs - 2025-04-30T020247.598.xls', 'savedrecs - 2025-04-30T020300.192.xls', 'savedrecs - 2025-04-30T020312.825.xls', 'savedrecs - 2025-04-30T020325.438.xls', 'savedrecs - 2025-04-30T020337.994.xls', 'savedrecs - 2025-04-30T020350.724.xls', 'savedrecs - 2025-04-30T020403.385.xls', 'savedrecs - 2025-04-30T020415.931.xls', 'savedrecs - 2025-04-30T020429.066.xls', 'savedrecs - 2025-04-30T020441.195.xls', 'savedrecs - 2025-04-30T020454.005.xls', 'savedrecs - 2025-04-30T020506.479.xls', 'savedrecs - 2025-04-30T020519.069.xls', 'savedrecs - 2025-04-30T020531.827.xls', 'savedrecs - 2025-04-30T020544.776.xls', 'savedrecs - 2025-04-30T020556.989.xls', 'savedrecs - 2025-04-30T020609.848.xls', 'savedrecs - 2025-04-30T020622.427.xls', 'savedrecs - 2025-04-30T020635.519.xls', 'savedrecs - 2025-04-30T020647.925.xls', 'savedrecs - 2025-04-30T020700.254.xls', 'savedrecs - 2025-04-30T020712.838.xls', 'savedrecs - 2025-04-30T020725.472.xls', 'savedrecs - 2025-04-30T020738.130.xls', 'savedrecs - 2025-04-30T020750.650.xls', 'savedrecs - 2025-04-30T020803.312.xls', 'savedrecs - 2025-04-30T020815.942.xls', 'savedrecs - 2025-04-30T020829.096.xls', 'savedrecs - 2025-04-30T020841.333.xls', 'savedrecs - 2025-04-30T020854.052.xls', 'savedrecs - 2025-04-30T020906.856.xls', 'savedrecs - 2025-04-30T020919.559.xls', 'savedrecs - 2025-04-30T020932.139.xls', 'savedrecs - 2025-04-30T020945.022.xls', 'savedrecs - 2025-04-30T020957.457.xls', 'savedrecs - 2025-04-30T021010.237.xls', 'savedrecs - 2025-04-30T021022.640.xls', 'savedrecs.xls']\n"
     ]
    }
   ],
   "source": [
    "folder = Path('source/')\n",
    "files = [f.name for f in folder.iterdir() if f.is_file()]"
   ]
  },
  {
   "cell_type": "code",
   "execution_count": 8,
   "id": "4b19a16f",
   "metadata": {},
   "outputs": [
    {
     "data": {
      "text/plain": [
       "Index(['Publication Type', 'Authors', 'Book Authors', 'Book Editors',\n",
       "       'Book Group Authors', 'Author Full Names', 'Book Author Full Names',\n",
       "       'Group Authors', 'Article Title', 'Source Title', 'Book Series Title',\n",
       "       'Book Series Subtitle', 'Language', 'Document Type', 'Conference Title',\n",
       "       'Conference Date', 'Conference Location', 'Conference Sponsor',\n",
       "       'Conference Host', 'Author Keywords', 'Keywords Plus', 'Abstract',\n",
       "       'Addresses', 'Affiliations', 'Reprint Addresses', 'Email Addresses',\n",
       "       'Researcher Ids', 'ORCIDs', 'Funding Orgs', 'Funding Name Preferred',\n",
       "       'Funding Text', 'Cited References', 'Cited Reference Count',\n",
       "       'Times Cited, WoS Core', 'Times Cited, All Databases',\n",
       "       '180 Day Usage Count', 'Since 2013 Usage Count', 'Publisher',\n",
       "       'Publisher City', 'Publisher Address', 'ISSN', 'eISSN', 'ISBN',\n",
       "       'Journal Abbreviation', 'Journal ISO Abbreviation', 'Publication Date',\n",
       "       'Publication Year', 'Volume', 'Issue', 'Part Number', 'Supplement',\n",
       "       'Special Issue', 'Meeting Abstract', 'Start Page', 'End Page',\n",
       "       'Article Number', 'DOI', 'DOI Link', 'Book DOI', 'Early Access Date',\n",
       "       'Number of Pages', 'WoS Categories', 'Web of Science Index',\n",
       "       'Research Areas', 'IDS Number', 'Pubmed Id', 'Open Access Designations',\n",
       "       'Highly Cited Status', 'Hot Paper Status', 'Date of Export',\n",
       "       'UT (Unique WOS ID)', 'Web of Science Record'],\n",
       "      dtype='object')"
      ]
     },
     "execution_count": 8,
     "metadata": {},
     "output_type": "execute_result"
    }
   ],
   "source": [
    "d = pd.read_excel('source/' + files[0])\n",
    "d.columns"
   ]
  },
  {
   "cell_type": "code",
   "execution_count": null,
   "id": "036885b7",
   "metadata": {},
   "outputs": [],
   "source": []
  },
  {
   "cell_type": "code",
   "execution_count": null,
   "id": "3a5d024c",
   "metadata": {},
   "outputs": [],
   "source": []
  },
  {
   "cell_type": "code",
   "execution_count": null,
   "id": "3369a726",
   "metadata": {},
   "outputs": [],
   "source": []
  }
 ],
 "metadata": {
  "kernelspec": {
   "display_name": "tm",
   "language": "python",
   "name": "python3"
  },
  "language_info": {
   "codemirror_mode": {
    "name": "ipython",
    "version": 3
   },
   "file_extension": ".py",
   "mimetype": "text/x-python",
   "name": "python",
   "nbconvert_exporter": "python",
   "pygments_lexer": "ipython3",
   "version": "3.13.2"
  }
 },
 "nbformat": 4,
 "nbformat_minor": 5
}
