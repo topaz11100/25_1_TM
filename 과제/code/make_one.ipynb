{
 "cells": [
  {
   "cell_type": "code",
   "execution_count": null,
   "id": "80ffcab4",
   "metadata": {},
   "outputs": [],
   "source": [
    "import numpy as np\n",
    "import pandas as pd\n",
    "from pathlib import Path\n",
    "from habanero import Crossref"
   ]
  },
  {
   "cell_type": "code",
   "execution_count": null,
   "id": "7d806b5b",
   "metadata": {},
   "outputs": [],
   "source": [
    "base_path = 'source/'\n",
    "use_column = ['Article Title', 'Abstract', 'DOI']"
   ]
  },
  {
   "cell_type": "code",
   "execution_count": null,
   "id": "057ae72c",
   "metadata": {},
   "outputs": [],
   "source": [
    "def excel_list():\n",
    "    folder = Path(base_path)\n",
    "    return [f.name for f in folder.iterdir() if f.is_file()]\n",
    "\n",
    "#e = excel_list()"
   ]
  },
  {
   "cell_type": "code",
   "execution_count": null,
   "id": "4b19a16f",
   "metadata": {},
   "outputs": [],
   "source": [
    "def make_one(excel_list):\n",
    "\n",
    "    concat_list = []\n",
    "\n",
    "    def cutted_df(file_name):\n",
    "        d = pd.read_excel(base_path + file_name)\n",
    "        d = d[use_column]\n",
    "        d = d.dropna(subset = use_column)\n",
    "        return d\n",
    "    \n",
    "    for e in excel_list:\n",
    "        concat_list.append(cutted_df(e))\n",
    "\n",
    "    result = pd.concat(concat_list, axis=0, ignore_index=True)\n",
    "    return result.drop_duplicates(subset=['DOI'])\n",
    "\n",
    "#m = make_one(e)\n",
    "#m.to_csv('make_one.csv', index=False)"
   ]
  },
  {
   "cell_type": "code",
   "execution_count": null,
   "id": "3a5d024c",
   "metadata": {},
   "outputs": [],
   "source": [
    "#import date_multi\n",
    "\n",
    "#dt = pd.read_csv('make_one.csv')\n",
    "#dt = date_multi.parallel_fetch(dt)\n",
    "#dt.to_csv('date_one.csv', index=False)"
   ]
  },
  {
   "cell_type": "code",
   "execution_count": null,
   "id": "590d1fc3",
   "metadata": {},
   "outputs": [],
   "source": []
  }
 ],
 "metadata": {
  "kernelspec": {
   "display_name": "tm",
   "language": "python",
   "name": "python3"
  },
  "language_info": {
   "codemirror_mode": {
    "name": "ipython",
    "version": 3
   },
   "file_extension": ".py",
   "mimetype": "text/x-python",
   "name": "python",
   "nbconvert_exporter": "python",
   "pygments_lexer": "ipython3",
   "version": "3.13.2"
  }
 },
 "nbformat": 4,
 "nbformat_minor": 5
}
