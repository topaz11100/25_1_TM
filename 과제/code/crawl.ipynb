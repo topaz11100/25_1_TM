{
 "cells": [
  {
   "cell_type": "code",
   "execution_count": 19,
   "id": "27c25cae",
   "metadata": {},
   "outputs": [],
   "source": [
    "import pyautogui as pg\n",
    "import time"
   ]
  },
  {
   "cell_type": "code",
   "execution_count": 21,
   "id": "6bc09f83",
   "metadata": {},
   "outputs": [],
   "source": [
    "NEXT_PAGE = (540, 608)\n",
    "EXPORT_BUTTON = (696, 568)\n",
    "EXCEL = (650, 789)\n",
    "RECORD_CONTENT_BUTTON = (632, 891)\n",
    "FULL_EXPORT = (388, 945)\n",
    "SEQ = [EXPORT_BUTTON, EXCEL, RECORD_CONTENT_BUTTON, FULL_EXPORT, FULL_EXPORT, NEXT_PAGE]"
   ]
  },
  {
   "cell_type": "code",
   "execution_count": null,
   "id": "17d801d5",
   "metadata": {},
   "outputs": [],
   "source": [
    "def download():\n",
    "    while True:\n",
    "        for i in SEQ:\n",
    "            pg.click(*i)\n",
    "            time.sleep(2)\n",
    "#download()"
   ]
  }
 ],
 "metadata": {
  "kernelspec": {
   "display_name": "tm",
   "language": "python",
   "name": "python3"
  },
  "language_info": {
   "codemirror_mode": {
    "name": "ipython",
    "version": 3
   },
   "file_extension": ".py",
   "mimetype": "text/x-python",
   "name": "python",
   "nbconvert_exporter": "python",
   "pygments_lexer": "ipython3",
   "version": "3.13.2"
  }
 },
 "nbformat": 4,
 "nbformat_minor": 5
}
