{
 "cells": [
  {
   "cell_type": "code",
   "execution_count": 1,
   "id": "32714155",
   "metadata": {},
   "outputs": [],
   "source": [
    "from selenium import webdriver\n",
    "from selenium.webdriver.chrome.options import Options\n",
    "from selenium.webdriver.common.by import By\n",
    "from selenium.webdriver.common.keys import Keys\n",
    "import time"
   ]
  },
  {
   "cell_type": "code",
   "execution_count": null,
   "id": "c10f3e2d",
   "metadata": {},
   "outputs": [],
   "source": [
    "#상수\n",
    "KW_LIBRARY = 'https://kupis.kw.ac.kr/'\n",
    "WOS_QUERY = 'https://www-webofscience-com.libproxy.kw.ac.kr/wos/woscc/advanced-search'\n",
    "\n",
    "QUARY = ('TS=(Federated Learning)' \n",
    "         ' AND '\n",
    "         'WC=(Communication' ' OR '\n",
    "         'Computer Science, Artificial Intelligence' ' OR '\n",
    "         'Computer Science, Cybernetics' ' OR '\n",
    "         'Computer Science, Hardware & Architecture' ' OR '\n",
    "         'Computer Science, Information Systems' ' OR '\n",
    "         'Computer Science, Interdisciplinary Applications' ' OR '\n",
    "         'Computer Science, Software Engineering' ' OR '\n",
    "         'Computer Science, Theory & Methods' ' OR '\n",
    "         'Telecommunications)' )\n",
    "\n",
    "EXPORT = '(overlay:export/exc)'"
   ]
  },
  {
   "cell_type": "code",
   "execution_count": null,
   "id": "3b632d73",
   "metadata": {},
   "outputs": [],
   "source": [
    "#보면서 하게 왼쪽 반으로 맞춤\n",
    "def set_driver():\n",
    "    driver = webdriver.Chrome()\n",
    "    driver.set_window_position(0, 0)\n",
    "    driver.set_window_size(960, 1080)\n",
    "    return driver\n",
    "#중앙도서관 로그인 대기\n",
    "def kw_lib_login(driver):\n",
    "    driver.get(KW_LIBRARY)\n",
    "    input('로그인 완료 후 아무 키 입력')\n",
    "#새 탭 만들고 그리로 이동\n",
    "def move_new_tab(driver, url):\n",
    "    driver.execute_script(f\"window.open('{url}');\")\n",
    "    driver.switch_to.window(driver.window_handles[-1])\n",
    "    time.sleep(2.2)\n",
    "#wos고급 검색으로 바로 이동후 쿼리입력(팝업 떠서 대기해야함)\n",
    "def search_by_query(driver):\n",
    "    move_new_tab(driver, WOS_QUERY)\n",
    "    input('잡다한거 없앤 후 아무 키 입력')\n",
    "    query_in = driver.find_element(By.XPATH, '//*[@id=\"advancedSearchInputArea\"]')\n",
    "    query_in.send_keys(QUARY)\n",
    "    button = driver.find_element(By.XPATH, '/html/body/app-wos/main/div/div/div[2]/div/div/div[2]/app-input-route/app-search-home/div[2]/div[2]/app-input-route/app-search-advanced/app-advanced-search-form/form/div[3]/div[1]/div[1]/div/button[2]')\n",
    "    button.click()\n",
    "    time.sleep(6)\n",
    "    doc_count = driver.find_element(By.XPATH, '/html/body/app-wos/main/div/div/div[2]/div/div/div[2]/app-input-route/app-base-summary-component/app-search-friendly-display/div[1]/app-general-search-friendly-display/div/div/h1/span')\n",
    "    value = int(doc_count.text.replace(',', ''))\n",
    "    return value\n",
    "#1000개 단위로만 받을 수 있어 문서 개수를 길이 천인 구간으로 분할\n",
    "def make_interval(num):\n",
    "    result = list(zip([i for i in range(1, num, 1000)], [i for i in range(1000, num, 1000)]))\n",
    "    result.append((result[-1][1] + 1, result[-1][1] + num % 1000))\n",
    "    return result\n",
    "#한 구간에 대해 1000개 다운로드\n",
    "def export_single_page(driver, start, end):\n",
    "    driver.find_element(By.XPATH, '//*[@id=\"radio3\"]/label/span[1]/span[2]').click()\n",
    "    s = driver.find_element(By.XPATH, '//*[@id=\"mat-input-0\"]')\n",
    "    s.clear()\n",
    "    s.send_keys(start)\n",
    "    time.sleep(0.1)\n",
    "    k = driver.find_element(By.XPATH, '//*[@id=\"mat-input-1\"]')\n",
    "    k.clear()\n",
    "    k.send_keys(end)\n",
    "    driver.find_element(By.XPATH, '/html/body/app-wos/main/div/div/div[2]/div/div/div[2]/app-input-route[1]/app-export-overlay/div/div[3]/div[2]/app-export-out-details/div/div[2]/form/div/div[1]/wos-select/button').click()\n",
    "    time.sleep(0.1)\n",
    "    driver.find_element(By.XPATH, '//*[@id=\"global-select\"]/div/div/div[3]').click()\n",
    "    time.sleep(0.1)\n",
    "    driver.find_element(By.XPATH, '//*[@id=\"exportButton\"]').click()\n",
    "#전체 다운로드\n",
    "def export(driver, interval):\n",
    "    for i in interval:\n",
    "        move_new_tab(driver, driver.current_url + EXPORT)\n",
    "        export_single_page(driver, i[0], i[1])"
   ]
  },
  {
   "cell_type": "code",
   "execution_count": null,
   "id": "431eb023",
   "metadata": {},
   "outputs": [],
   "source": [
    "#쿼리에 대응하는 논문 전부 다운로드\n",
    "def crawl():\n",
    "    driver = set_driver()\n",
    "    kw_lib_login(driver)\n",
    "    doc_count = search_by_query(driver)\n",
    "    export(driver, make_interval(doc_count))\n",
    "\n",
    "crawl()"
   ]
  }
 ],
 "metadata": {
  "kernelspec": {
   "display_name": "tm",
   "language": "python",
   "name": "python3"
  },
  "language_info": {
   "codemirror_mode": {
    "name": "ipython",
    "version": 3
   },
   "file_extension": ".py",
   "mimetype": "text/x-python",
   "name": "python",
   "nbconvert_exporter": "python",
   "pygments_lexer": "ipython3",
   "version": "3.13.2"
  }
 },
 "nbformat": 4,
 "nbformat_minor": 5
}
