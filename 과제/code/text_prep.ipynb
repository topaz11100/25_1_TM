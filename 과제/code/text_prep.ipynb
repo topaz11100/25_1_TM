{
 "cells": [
  {
   "cell_type": "code",
   "execution_count": null,
   "id": "79656d40",
   "metadata": {},
   "outputs": [],
   "source": [
    "import multi\n",
    "import pandas as pd"
   ]
  },
  {
   "cell_type": "code",
   "execution_count": null,
   "id": "e2fb7def",
   "metadata": {},
   "outputs": [],
   "source": [
    "def make_lda_data():\n",
    "    lda_data = pd.read_csv('original.csv')\n",
    "    lda_data = multi.df_multi_process(lda_data, multi.text_prep, 6)\n",
    "    lda_data.to_csv('lda_data.csv', index=False)\n",
    "\n",
    "#make_lda_data()"
   ]
  },
  {
   "cell_type": "code",
   "execution_count": null,
   "id": "17249494",
   "metadata": {},
   "outputs": [],
   "source": [
    "def make_bertopic_data():\n",
    "    bertopic_data = pd.read_csv('original.csv')\n",
    "    bertopic_data.to_csv('bertopic_data.csv', index=False)\n",
    "\n",
    "#make_bertopic_data()"
   ]
  },
  {
   "cell_type": "code",
   "execution_count": null,
   "id": "13452073",
   "metadata": {},
   "outputs": [],
   "source": []
  }
 ],
 "metadata": {
  "kernelspec": {
   "display_name": "tm",
   "language": "python",
   "name": "python3"
  },
  "language_info": {
   "codemirror_mode": {
    "name": "ipython",
    "version": 3
   },
   "file_extension": ".py",
   "mimetype": "text/x-python",
   "name": "python",
   "nbconvert_exporter": "python",
   "pygments_lexer": "ipython3",
   "version": "3.13.2"
  }
 },
 "nbformat": 4,
 "nbformat_minor": 5
}
