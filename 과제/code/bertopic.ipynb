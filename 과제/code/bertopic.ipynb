{
 "cells": [
  {
   "cell_type": "code",
   "execution_count": null,
   "id": "22e8f405",
   "metadata": {},
   "outputs": [
    {
     "name": "stderr",
     "output_type": "stream",
     "text": [
      "d:\\miniconda3\\envs\\bertopic\\Lib\\site-packages\\tqdm\\auto.py:21: TqdmWarning: IProgress not found. Please update jupyter and ipywidgets. See https://ipywidgets.readthedocs.io/en/stable/user_install.html\n",
      "  from .autonotebook import tqdm as notebook_tqdm\n"
     ]
    }
   ],
   "source": [
    "from bertopic import BERTopic\n",
    "import umap\n",
    "import hdbscan\n",
    "import pandas as pd"
   ]
  },
  {
   "cell_type": "code",
   "execution_count": null,
   "id": "527eeb14",
   "metadata": {},
   "outputs": [],
   "source": [
    "PATH = '../data/bertopic_data.csv'\n",
    "TEST = 5\n",
    "TOPIC = 6"
   ]
  },
  {
   "cell_type": "code",
   "execution_count": null,
   "id": "8653e566",
   "metadata": {},
   "outputs": [],
   "source": [
    "def split_data(path, test_count):\n",
    "    df = pd.read_csv(path)\n",
    "    y = df.sample(n=test_count, random_state=42)\n",
    "    x = df.drop(y.index)\n",
    "    return x.reset_index(drop=True), y.reset_index(drop=True)"
   ]
  },
  {
   "cell_type": "code",
   "execution_count": null,
   "id": "ee4187cd",
   "metadata": {},
   "outputs": [],
   "source": [
    "def model_set_train(data, topic_count=None):\n",
    "    umap_model = umap.UMAP(n_jobs=-1)\n",
    "    hdbscan_model = hdbscan.HDBSCAN(core_dist_n_jobs=-1)\n",
    "    model = BERTopic(nr_topics = topic_count,\n",
    "                     umap_model=umap_model, hdbscan_model=hdbscan_model)\n",
    "    topic, prob = model.fit_transform(data)\n",
    "    return model, topic, prob"
   ]
  },
  {
   "cell_type": "code",
   "execution_count": null,
   "id": "54671951",
   "metadata": {},
   "outputs": [],
   "source": [
    "x, y = split_data(PATH, TEST)\n",
    "model, topic, prob = model_set_train(x['Abstract'], TOPIC)"
   ]
  },
  {
   "cell_type": "code",
   "execution_count": null,
   "id": "87e6cdcf",
   "metadata": {},
   "outputs": [],
   "source": []
  }
 ],
 "metadata": {
  "kernelspec": {
   "display_name": "bertopic",
   "language": "python",
   "name": "python3"
  },
  "language_info": {
   "codemirror_mode": {
    "name": "ipython",
    "version": 3
   },
   "file_extension": ".py",
   "mimetype": "text/x-python",
   "name": "python",
   "nbconvert_exporter": "python",
   "pygments_lexer": "ipython3",
   "version": "3.13.3"
  }
 },
 "nbformat": 4,
 "nbformat_minor": 5
}
